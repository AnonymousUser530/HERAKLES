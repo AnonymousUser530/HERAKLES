{
 "cells": [
  {
   "cell_type": "code",
   "execution_count": 1,
   "metadata": {},
   "outputs": [],
   "source": [
    "from crafter_text_gc import CrafterTextGC"
   ]
  },
  {
   "cell_type": "code",
   "execution_count": 5,
   "metadata": {},
   "outputs": [],
   "source": [
    "env = CrafterTextGC(train=True, seed=0)"
   ]
  },
  {
   "cell_type": "code",
   "execution_count": 6,
   "metadata": {},
   "outputs": [
    {
     "name": "stdout",
     "output_type": "stream",
     "text": [
      "Your task: Collect wood\n",
      "\n",
      "Your coordinates: (32,32)\n",
      "\n",
      "You see:\n",
      "- grass 1 steps to your west\n",
      "- tree 7 steps to your north-west\n",
      "\n",
      "You face grass at your front.\n",
      "\n",
      "You have nothing in your inventory.\n",
      "\n",
      "Actions you can take:\n",
      "- Noop\n",
      "- Move west\n",
      "- Move east\n",
      "- Move north\n",
      "- Move south\n",
      "- Do\n",
      "\n",
      "The last action you took: Noop\n",
      "\n",
      "Your action: \n"
     ]
    }
   ],
   "source": [
    "obs, infos = env.reset('Collect wood')\n",
    "print(obs)"
   ]
  },
  {
   "cell_type": "code",
   "execution_count": 6,
   "metadata": {},
   "outputs": [
    {
     "name": "stdout",
     "output_type": "stream",
     "text": [
      "Your task: Collect 10 irons\n",
      "\n",
      "Your coordinates: (32,30)\n",
      "\n",
      "You see:\n",
      "- grass 1 steps to your west\n",
      "- tree 5 steps to your north-west\n",
      "\n",
      "You face grass at your front.\n",
      "\n",
      "You have nothing in your inventory.\n",
      "\n",
      "Actions you can take:\n",
      "- Noop\n",
      "- Move west\n",
      "- Move east\n",
      "- Move north\n",
      "- Move south\n",
      "- Do\n",
      "- Place stone\n",
      "- Place table\n",
      "- Place furnace\n",
      "- Make wood pickaxe\n",
      "- Make stone pickaxe\n",
      "- Make iron pickaxe\n",
      "- Make wood sword\n",
      "- Make stone sword\n",
      "- Make iron sword\n",
      "\n",
      "The last action you took: Move north\n",
      "\n",
      "Your action: \n"
     ]
    }
   ],
   "source": [
    "obs, reward, done, _, infos = env.step('Move north')\n",
    "print(obs)"
   ]
  }
 ],
 "metadata": {
  "kernelspec": {
   "display_name": "omni",
   "language": "python",
   "name": "python3"
  },
  "language_info": {
   "codemirror_mode": {
    "name": "ipython",
    "version": 3
   },
   "file_extension": ".py",
   "mimetype": "text/x-python",
   "name": "python",
   "nbconvert_exporter": "python",
   "pygments_lexer": "ipython3",
   "version": "3.10.14"
  }
 },
 "nbformat": 4,
 "nbformat_minor": 2
}
